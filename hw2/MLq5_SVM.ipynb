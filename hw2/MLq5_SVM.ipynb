{
 "cells": [
  {
   "cell_type": "code",
   "execution_count": 1,
   "metadata": {},
   "outputs": [],
   "source": [
    "import numpy as np\n",
    "import matplotlib.pyplot as plt\n",
    "from sklearn import svm"
   ]
  },
  {
   "cell_type": "code",
   "execution_count": 3,
   "metadata": {},
   "outputs": [
    {
     "name": "stderr",
     "output_type": "stream",
     "text": [
      "No handles with labels found to put in legend.\n"
     ]
    },
    {
     "data": {
      "image/png": "[encoded data removed]",
      "text/plain": [
       "<Figure size 432x288 with 1 Axes>"
      ]
     },
     "metadata": {
      "needs_background": "light"
     },
     "output_type": "display_data"
    }
   ],
   "source": [
    "data = np.genfromtxt('binclass.txt',delimiter=',')\n",
    "from matplotlib.colors import ListedColormap\n",
    "def plotData(x, y, pos_ex, neg_ex): # Plots only the data points\n",
    "    plt.plot(x[pos_ex,0], x[pos_ex,1], 'r+')\n",
    "    plt.plot(x[neg_ex,0], x[neg_ex,1], 'b+')\n",
    "\n",
    "def plotBoundary(clf, y, x):\n",
    "    X, Y = np.meshgrid(x, y)\n",
    "    Z = clf.predict(np.c_[X.ravel(), Y.ravel()])\n",
    "    Z = Z.reshape(X.shape)\n",
    "    plt.contour(X, Y, Z,alpha = 1.0, cmap = ListedColormap('black')) # Plots the decision boundary\n",
    "\n",
    "x = data[:,:data.shape[1]-1] #inputs\n",
    "y = data[:,data.shape[1]-1] #output (scalar)\n",
    "pos_ex = y>0 # true for positive examples\n",
    "neg_ex = y<0 # true for negative examples\n",
    "x2 = np.arange(np.min(x[:,1]),np.max(x[:,1]),0.01)\n",
    "x1 = np.arange(np.min(x[:,0]),np.max(x[:,0]),0.01)\n",
    "#x1 and x2 contain min to max ranges for respective axis, will be used for meshgrid\n",
    "\n",
    "classifier = svm.SVC(kernel='linear', C=1) # support vector classifier\n",
    "classifier.fit(x, y)\n",
    "plt.xlabel('x1')\n",
    "plt.ylabel('x2')\n",
    "plt.title('SVM on data from binclass.txt:')\n",
    "plotData(x, y, pos_ex, neg_ex)\n",
    "plotBoundary(classifier, x2, x1)\n",
    "plt.legend()\n",
    "plt.show()"
   ]
  },
  {
   "cell_type": "code",
   "execution_count": null,
   "metadata": {},
   "outputs": [],
   "source": [
    "data = np.genfromtxt('binclassv2.txt',delimiter=',')\n",
    "\n",
    "def plotData(x, y, pos_ex, neg_ex):\n",
    "    plt.plot(x[pos_ex,0], x[pos_ex,1], 'r+')\n",
    "    plt.plot(x[neg_ex,0], x[neg_ex,1], 'b+')\n",
    "\n",
    "def plotBoundary(clf, y, x):\n",
    "    X, Y = np.meshgrid(x, y)\n",
    "    Z = clf.predict(np.c_[X.ravel(), Y.ravel()])\n",
    "    Z = Z.reshape(X.shape)\n",
    "    plt.contour(X, Y, Z,alpha = 1.0, cmap = ListedColormap('black'))\n",
    "\n",
    "x = data[:,:data.shape[1]-1]\n",
    "y = data[:,data.shape[1]-1]\n",
    "pos_ex = y>0\n",
    "neg_ex = y<0\n",
    "x2 = np.arange(np.min(x[:,1]),np.max(x[:,1]),0.05)\n",
    "x1 = np.arange(np.min(x[:,0]),np.max(x[:,0]),0.05)\n",
    "\n",
    "classifier = svm.SVC(kernel='linear', C=1)\n",
    "classifier.fit(x, y)\n",
    "\n",
    "plt.xlabel('x1')\n",
    "plt.ylabel('x2')\n",
    "plt.title('SVM on data from binclassv2.txt:')\n",
    "plotData(x, y, pos_ex, neg_ex)\n",
    "plotBoundary(classifier, x2, x1)\n",
    "plt.legend()\n",
    "plt.show()\n",
    "\n"
   ]
  },
  {
   "cell_type": "code",
   "execution_count": null,
   "metadata": {},
   "outputs": [],
   "source": [
    "x"
   ]
  },
  {
   "cell_type": "code",
   "execution_count": null,
   "metadata": {},
   "outputs": [],
   "source": [
    "y"
   ]
  },
  {
   "cell_type": "code",
   "execution_count": null,
   "metadata": {},
   "outputs": [],
   "source": [
    "data.shape[1]"
   ]
  },
  {
   "cell_type": "code",
   "execution_count": null,
   "metadata": {},
   "outputs": [],
   "source": []
  }
 ],
 "metadata": {
  "kernelspec": {
   "display_name": "Python 3",
   "language": "python",
   "name": "python3"
  },
  "language_info": {
   "codemirror_mode": {
    "name": "ipython",
    "version": 3
   },
   "file_extension": ".py",
   "mimetype": "text/x-python",
   "name": "python",
   "nbconvert_exporter": "python",
   "pygments_lexer": "ipython3",
   "version": "3.8.3"
  }
 },
 "nbformat": 4,
 "nbformat_minor": 4
}
